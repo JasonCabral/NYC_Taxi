{
 "cells": [
  {
   "cell_type": "code",
   "execution_count": 68,
   "metadata": {
    "collapsed": true
   },
   "outputs": [],
   "source": [
    "import pandas as pd\n",
    "from bs4 import BeautifulSoup\n",
    "from datetime import date, timedelta, datetime\n",
    "import requests\n"
   ]
  },
  {
   "cell_type": "code",
   "execution_count": 69,
   "metadata": {
    "collapsed": true
   },
   "outputs": [],
   "source": [
    "d1 = date(2016, 1, 1)  # start date\n",
    "d2 = date(2016, 12, 31)  # end date\n",
    "\n",
    "delta = d2 - d1  # timedelta\n",
    "\n",
    "dates = []\n",
    "for i in range(delta.days + 1):\n",
    "    dates.append((d1 + timedelta(days=i)).strftime(\"%Y/%#m/%#d\"))\n",
    "\n",
    "urls = []\n",
    "for i in dates:\n",
    "        urls.append(\"https://www.wunderground.com/history/airport/KJFK/\" + i + \"/DailyHistory.html\")"
   ]
  },
  {
   "cell_type": "code",
   "execution_count": 72,
   "metadata": {},
   "outputs": [],
   "source": [
    "# Pull Headers and Build Dataframe\n",
    "headers = []\n",
    "headR = requests.get(urls[1])\n",
    "headData = headR.text\n",
    "headSoup = BeautifulSoup(headData, \"lxml\")\n",
    "headTable = headSoup.find('table', { \"id\" : \"obsTable\"})\n",
    "for row in headTable.find_all('th'):\n",
    "    header = row.renderContents()\n",
    "    headers.append(header.decode().rstrip())\n",
    "\n",
    "headers[0] = headers[0].split()[0]\n",
    "headers[1] = headers[1][:-1]\n",
    "headers.insert(0, 'Date')\n",
    "\n",
    "df = pd.DataFrame(columns = headers)"
   ]
  },
  {
   "cell_type": "code",
   "execution_count": null,
   "metadata": {},
   "outputs": [],
   "source": []
  },
  {
   "cell_type": "code",
   "execution_count": 74,
   "metadata": {},
   "outputs": [],
   "source": [
    "for i in urls:\n",
    "    r = requests.get(i)\n",
    "    data = r.text\n",
    "    soup = BeautifulSoup(data, \"lxml\")\n",
    "    table = soup.find('table', { \"id\" : \"obsTable\"})\n",
    "    rows = table.find_all('tr')\n",
    "    urlDate = datetime.strptime(soup.find('h2', { \"class\" : \"history-date\"}).text, \"%A, %B %d, %Y\").date()\n",
    "    for j in rows:\n",
    "        cells = j.find_all(\"td\")\n",
    "        row = [i.text.strip().replace('\\xa0', '').replace('°F','').replace('in','').replace('mi','').replace('mph','').replace('-','') for i in cells]\n",
    "        if len(row) == 13:\n",
    "            row.insert(0, urlDate)\n",
    "            appRow = pd.Series(row, index = headers)\n",
    "            df = df.append(appRow, ignore_index=True)\n",
    "\n",
    "\n"
   ]
  },
  {
   "cell_type": "code",
   "execution_count": 82,
   "metadata": {},
   "outputs": [],
   "source": [
    "# print(df[6450:])"
   ]
  },
  {
   "cell_type": "code",
   "execution_count": 81,
   "metadata": {},
   "outputs": [],
   "source": [
    "df.to_csv(\"nyc_weather_2016.csv\")"
   ]
  },
  {
   "cell_type": "code",
   "execution_count": null,
   "metadata": {
    "collapsed": true
   },
   "outputs": [],
   "source": []
  }
 ],
 "metadata": {
  "kernelspec": {
   "display_name": "Python 3",
   "language": "python",
   "name": "python3"
  },
  "language_info": {
   "codemirror_mode": {
    "name": "ipython",
    "version": 3
   },
   "file_extension": ".py",
   "mimetype": "text/x-python",
   "name": "python",
   "nbconvert_exporter": "python",
   "pygments_lexer": "ipython3",
   "version": "3.6.1"
  }
 },
 "nbformat": 4,
 "nbformat_minor": 2
}
